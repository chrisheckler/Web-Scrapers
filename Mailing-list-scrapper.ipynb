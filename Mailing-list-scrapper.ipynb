{
 "cells": [
  {
   "cell_type": "code",
   "execution_count": 17,
   "metadata": {
    "collapsed": false
   },
   "outputs": [
    {
     "name": "stdout",
     "output_type": "stream",
     "text": [
      "mailto:ubuntu-users%40lists.ubuntu.com?Subject=Re%3A%20Best%20Twitter%20client%20for%20Ubuntu%2015.10&In-Reply-To=%3C1488329085.16489.1.camel%40ubuntu.com%3E\n",
      "289369.html\n",
      "date.html#289368\n",
      "thread.html#289368\n",
      "subject.html#289368\n",
      "author.html#289368\n",
      "https://lists.ubuntu.com/archives/ubuntu-users/attachments/20170301/7fb4c8c8/attachment.pgp\n",
      "289369.html\n",
      "date.html#289368\n",
      "thread.html#289368\n",
      "subject.html#289368\n",
      "author.html#289368\n",
      "https://lists.ubuntu.com/mailman/listinfo/ubuntu-users\n"
     ]
    }
   ],
   "source": [
    "from bs4 import BeautifulSoup as bs\n",
    "from requests import * \n",
    "\n",
    "page = urllib.request.urlopen(\"https://lists.ubuntu.com/archives/ubuntu-users/2017-March/289368.html\")\n",
    "soup = bs(page, \"lxml\")\n",
    "soup.prettify()\n",
    "for anchor in soup.findAll('a', href=True):\n",
    "    print(anchor['href'])\n"
   ]
  },
  {
   "cell_type": "code",
   "execution_count": null,
   "metadata": {
    "collapsed": true
   },
   "outputs": [],
   "source": []
  }
 ],
 "metadata": {
  "kernelspec": {
   "display_name": "Python 3",
   "language": "python",
   "name": "python3"
  },
  "language_info": {
   "codemirror_mode": {
    "name": "ipython",
    "version": 3
   },
   "file_extension": ".py",
   "mimetype": "text/x-python",
   "name": "python",
   "nbconvert_exporter": "python",
   "pygments_lexer": "ipython3",
   "version": "3.5.1"
  }
 },
 "nbformat": 4,
 "nbformat_minor": 0
}
